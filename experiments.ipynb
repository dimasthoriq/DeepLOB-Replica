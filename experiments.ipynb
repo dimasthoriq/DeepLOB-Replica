{
 "cells": [
  {
   "metadata": {},
   "cell_type": "code",
   "source": [
    "import torch\n",
    "import matplotlib.pyplot as plt\n",
    "\n",
    "from utils import Dataset, load_data\n",
    "from trainer import batch_gd, evaluate\n",
    "from models import DeepLOB"
   ],
   "id": "1188ffcb21e4a797",
   "outputs": [],
   "execution_count": null
  },
  {
   "metadata": {},
   "cell_type": "code",
   "source": [
    "config = {\n",
    "    # Data configs\n",
    "    'data_path' : './data/',\n",
    "    'batch_size' : 32,\n",
    "    'num_classes' : 3,\n",
    "    'T' : 100,\n",
    "    'k' : 10,\n",
    "    \n",
    "    # Training configs\n",
    "    'lr' : 0.01,\n",
    "    'eps' : 1.0,\n",
    "    'epochs' : 150,\n",
    "    'device' : torch.device('cuda' if torch.cuda.is_available() else 'cpu'),\n",
    "    'patience': 20,\n",
    "    'min_delta': 1e-6,\n",
    "    'print_freq': 10\n",
    "}\n",
    "print(config['device'])"
   ],
   "id": "4ad40faf9fc07287",
   "outputs": [],
   "execution_count": null
  },
  {
   "metadata": {},
   "cell_type": "code",
   "source": [
    "# Load the data\n",
    "train, val, test = load_data(config['data_path'])\n",
    "\n",
    "dataset_train = Dataset(data=train, k=config['k'], num_classes=config['num_classes'], T=config['T'])\n",
    "dataset_val = Dataset(data=val, k=config['k'], num_classes=config['num_classes'], T=config['T'])\n",
    "dataset_test = Dataset(data=test, k=config['k'], num_classes=config['num_classes'], T=config['T'])\n",
    "\n",
    "train_loader = torch.utils.data.DataLoader(dataset=dataset_train, batch_size=config['batch_size'], shuffle=True)\n",
    "val_loader = torch.utils.data.DataLoader(dataset=dataset_val, batch_size=config['batch_size'], shuffle=False)\n",
    "test_loader = torch.utils.data.DataLoader(dataset=dataset_test, batch_size=config['batch_size'], shuffle=False)\n",
    "\n",
    "print(dataset_train.x.shape, dataset_train.y.shape)"
   ],
   "id": "2e91067647af017e",
   "outputs": [],
   "execution_count": null
  },
  {
   "metadata": {},
   "cell_type": "code",
   "source": [
    "model = DeepLOB(y_len = dataset_train.num_classes)\n",
    "model.to(config['device'])\n",
    "\n",
    "criterion = torch.nn.CrossEntropyLoss()\n",
    "optimizer = torch.optim.Adam(model.parameters(), lr=config['lr'], eps=config['eps'])      # set as in the paper or use lr=0.0001"
   ],
   "id": "9052727b27a5dd8b",
   "outputs": [],
   "execution_count": null
  },
  {
   "metadata": {},
   "cell_type": "code",
   "source": [
    "model, train_losses, val_losses, train_accs, val_accs = batch_gd(model,\n",
    "                                                                 criterion,\n",
    "                                                                 optimizer,\n",
    "                                                                 train_loader,\n",
    "                                                                 val_loader,\n",
    "                                                                 config\n",
    "                                                                 )"
   ],
   "id": "1c49a235018b27e7",
   "outputs": [],
   "execution_count": null
  },
  {
   "metadata": {},
   "cell_type": "code",
   "source": [
    "plt.figure(figsize=(15,6))\n",
    "plt.subplot(1,2,1)\n",
    "plt.plot(train_losses, label='train loss')\n",
    "plt.plot(val_losses, label='validation loss')\n",
    "plt.title('Losses')\n",
    "plt.xlabel('Epoch')\n",
    "plt.ylabel('Loss')\n",
    "plt.legend()\n",
    "\n",
    "plt.subplot(1,2,2)\n",
    "plt.plot(train_accs, label='train accuracy')\n",
    "plt.plot(val_accs, label='validation accuracy')\n",
    "plt.title('Accuracies')\n",
    "plt.xlabel('Epoch')\n",
    "plt.ylabel('Accuracy')\n",
    "plt.legend()\n",
    "\n",
    "plt.show()"
   ],
   "id": "8e28a237c7f9eacd",
   "outputs": [],
   "execution_count": null
  },
  {
   "metadata": {},
   "cell_type": "code",
   "source": "report_k10 = evaluate(model, test_loader, config)",
   "id": "31176cecf6ca905d",
   "outputs": [],
   "execution_count": null
  }
 ],
 "metadata": {
  "kernelspec": {
   "display_name": "Python 3",
   "language": "python",
   "name": "python3"
  },
  "language_info": {
   "codemirror_mode": {
    "name": "ipython",
    "version": 2
   },
   "file_extension": ".py",
   "mimetype": "text/x-python",
   "name": "python",
   "nbconvert_exporter": "python",
   "pygments_lexer": "ipython2",
   "version": "2.7.6"
  }
 },
 "nbformat": 4,
 "nbformat_minor": 5
}
