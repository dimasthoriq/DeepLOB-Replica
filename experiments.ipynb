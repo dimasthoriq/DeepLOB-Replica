{
 "cells": [
  {
   "metadata": {
    "ExecuteTime": {
     "end_time": "2024-11-09T11:23:20.313490Z",
     "start_time": "2024-11-09T11:23:15.124721Z"
    }
   },
   "cell_type": "code",
   "source": [
    "import torch\n",
    "import matplotlib.pyplot as plt\n",
    "\n",
    "from utils import Dataset, load_data\n",
    "from trainer import batch_gd, evaluate\n",
    "from models import DeepLOB"
   ],
   "id": "1188ffcb21e4a797",
   "outputs": [],
   "execution_count": 1
  },
  {
   "metadata": {
    "ExecuteTime": {
     "end_time": "2024-11-09T11:25:20.300518Z",
     "start_time": "2024-11-09T11:25:20.293518Z"
    }
   },
   "cell_type": "code",
   "source": [
    "config = {\n",
    "    # Data configs\n",
    "    'data_path' : './data/',\n",
    "    'batch_size' : 32,\n",
    "    'num_classes' : 3,\n",
    "    'T' : 100,\n",
    "    'k' : 10,\n",
    "    \n",
    "    # Training configs\n",
    "    'lr' : 0.01,\n",
    "    'eps' : 1.0,\n",
    "    'epochs' : 150,\n",
    "    'device' : torch.device('cuda' if torch.cuda.is_available() else 'cpu'),\n",
    "    'patience': 20,\n",
    "    'min_delta': 1e-6\n",
    "}\n",
    "print(config['device'])"
   ],
   "id": "4ad40faf9fc07287",
   "outputs": [
    {
     "name": "stdout",
     "output_type": "stream",
     "text": [
      "cuda\n"
     ]
    }
   ],
   "execution_count": 4
  },
  {
   "metadata": {
    "ExecuteTime": {
     "end_time": "2024-11-09T11:23:49.718037Z",
     "start_time": "2024-11-09T11:23:21.626912Z"
    }
   },
   "cell_type": "code",
   "source": [
    "# Load the data\n",
    "train, val, test = load_data(config['data_path'])\n",
    "\n",
    "dataset_train = Dataset(data=train, k=config['k'], num_classes=config['num_classes'], T=config['T'])\n",
    "dataset_val = Dataset(data=val, k=config['k'], num_classes=config['num_classes'], T=config['T'])\n",
    "dataset_test = Dataset(data=test, k=config['k'], num_classes=config['num_classes'], T=config['T'])\n",
    "\n",
    "train_loader = torch.utils.data.DataLoader(dataset=dataset_train, batch_size=config['batch_size'], shuffle=True)\n",
    "val_loader = torch.utils.data.DataLoader(dataset=dataset_val, batch_size=config['batch_size'], shuffle=False)\n",
    "test_loader = torch.utils.data.DataLoader(dataset=dataset_test, batch_size=config['batch_size'], shuffle=False)\n",
    "\n",
    "print(dataset_train.x.shape, dataset_train.y.shape)"
   ],
   "id": "2e91067647af017e",
   "outputs": [
    {
     "name": "stdout",
     "output_type": "stream",
     "text": [
      "(149, 203800) (149, 50950) (149, 139587)\n",
      "torch.Size([203701, 1, 100, 40]) torch.Size([203701])\n"
     ]
    }
   ],
   "execution_count": 3
  },
  {
   "metadata": {
    "ExecuteTime": {
     "end_time": "2024-11-09T11:25:33.326665Z",
     "start_time": "2024-11-09T11:25:31.139924Z"
    }
   },
   "cell_type": "code",
   "source": [
    "model = DeepLOB(y_len = dataset_train.num_classes)\n",
    "model.to(config['device'])\n",
    "\n",
    "criterion = torch.nn.CrossEntropyLoss()\n",
    "optimizer = torch.optim.Adam(model.parameters(), lr=config['lr'], eps=config['eps'])      # set as in the paper or use lr=0.0001"
   ],
   "id": "9052727b27a5dd8b",
   "outputs": [],
   "execution_count": 5
  },
  {
   "metadata": {
    "ExecuteTime": {
     "end_time": "2024-11-09T11:29:08.065183Z",
     "start_time": "2024-11-09T11:25:56.696009Z"
    }
   },
   "cell_type": "code",
   "source": [
    "model, train_losses, val_losses = batch_gd(model, criterion, optimizer, train_loader, val_loader, config)\n",
    "\n",
    "plt.figure(figsize=(15,6))\n",
    "plt.plot(train_losses, label='train loss')\n",
    "plt.plot(val_losses, label='validation loss')\n",
    "plt.title('Losses')\n",
    "plt.xlabel('Epoch')\n",
    "plt.ylabel('Loss')\n",
    "plt.legend()\n",
    "plt.show()"
   ],
   "id": "1c49a235018b27e7",
   "outputs": [
    {
     "name": "stderr",
     "output_type": "stream",
     "text": [
      "  1%|          | 1/150 [03:04<7:39:24, 185.00s/it]"
     ]
    },
    {
     "name": "stdout",
     "output_type": "stream",
     "text": [
      "model saved\n",
      "Epoch 1/150, Train Loss: 0.9554,           Validation Loss: 0.9182, Duration: 0:03:04.995421, Best Val Epoch: 0\n"
     ]
    },
    {
     "name": "stderr",
     "output_type": "stream",
     "text": [
      "  1%|          | 1/150 [03:10<7:54:09, 190.94s/it]\n"
     ]
    },
    {
     "ename": "KeyboardInterrupt",
     "evalue": "",
     "output_type": "error",
     "traceback": [
      "\u001B[1;31m---------------------------------------------------------------------------\u001B[0m",
      "\u001B[1;31mKeyboardInterrupt\u001B[0m                         Traceback (most recent call last)",
      "Cell \u001B[1;32mIn[6], line 1\u001B[0m\n\u001B[1;32m----> 1\u001B[0m model, train_losses, val_losses \u001B[38;5;241m=\u001B[39m \u001B[43mbatch_gd\u001B[49m\u001B[43m(\u001B[49m\u001B[43mmodel\u001B[49m\u001B[43m,\u001B[49m\u001B[43m \u001B[49m\u001B[43mcriterion\u001B[49m\u001B[43m,\u001B[49m\u001B[43m \u001B[49m\u001B[43moptimizer\u001B[49m\u001B[43m,\u001B[49m\u001B[43m \u001B[49m\u001B[43mtrain_loader\u001B[49m\u001B[43m,\u001B[49m\u001B[43m \u001B[49m\u001B[43mval_loader\u001B[49m\u001B[43m,\u001B[49m\u001B[43m \u001B[49m\u001B[43mk\u001B[49m\u001B[43m \u001B[49m\u001B[38;5;241;43m=\u001B[39;49m\u001B[43m \u001B[49m\u001B[43mk\u001B[49m\u001B[43m,\u001B[49m\u001B[43m \u001B[49m\u001B[43mepochs\u001B[49m\u001B[38;5;241;43m=\u001B[39;49m\u001B[43mepochs\u001B[49m\u001B[43m)\u001B[49m\n\u001B[0;32m      3\u001B[0m plt\u001B[38;5;241m.\u001B[39mfigure(figsize\u001B[38;5;241m=\u001B[39m(\u001B[38;5;241m15\u001B[39m,\u001B[38;5;241m6\u001B[39m))\n\u001B[0;32m      4\u001B[0m plt\u001B[38;5;241m.\u001B[39mplot(train_losses, label\u001B[38;5;241m=\u001B[39m\u001B[38;5;124m'\u001B[39m\u001B[38;5;124mtrain loss\u001B[39m\u001B[38;5;124m'\u001B[39m)\n",
      "File \u001B[1;32m~\\PycharmProjects\\DeepLOB-Replica\\trainer.py:47\u001B[0m, in \u001B[0;36mbatch_gd\u001B[1;34m(model, criterion, optimizer, train_loader, test_loader, k, epochs)\u001B[0m\n\u001B[0;32m     45\u001B[0m     loss\u001B[38;5;241m.\u001B[39mbackward()\n\u001B[0;32m     46\u001B[0m     optimizer\u001B[38;5;241m.\u001B[39mstep()\n\u001B[1;32m---> 47\u001B[0m     train_loss\u001B[38;5;241m.\u001B[39mappend(\u001B[43mloss\u001B[49m\u001B[38;5;241;43m.\u001B[39;49m\u001B[43mitem\u001B[49m\u001B[43m(\u001B[49m\u001B[43m)\u001B[49m)\n\u001B[0;32m     48\u001B[0m \u001B[38;5;66;03m# Get train loss and test loss\u001B[39;00m\n\u001B[0;32m     49\u001B[0m train_loss \u001B[38;5;241m=\u001B[39m np\u001B[38;5;241m.\u001B[39mmean(train_loss)  \u001B[38;5;66;03m# a little misleading\u001B[39;00m\n",
      "\u001B[1;31mKeyboardInterrupt\u001B[0m: "
     ]
    }
   ],
   "execution_count": 6
  },
  {
   "metadata": {},
   "cell_type": "code",
   "source": "report_k10 = evaluate(model, test_loader, config)",
   "id": "31176cecf6ca905d",
   "outputs": [],
   "execution_count": null
  },
  {
   "metadata": {},
   "cell_type": "code",
   "outputs": [],
   "execution_count": null,
   "source": "",
   "id": "54ab96bb034a12c5"
  }
 ],
 "metadata": {
  "kernelspec": {
   "display_name": "Python 3",
   "language": "python",
   "name": "python3"
  },
  "language_info": {
   "codemirror_mode": {
    "name": "ipython",
    "version": 2
   },
   "file_extension": ".py",
   "mimetype": "text/x-python",
   "name": "python",
   "nbconvert_exporter": "python",
   "pygments_lexer": "ipython2",
   "version": "2.7.6"
  }
 },
 "nbformat": 4,
 "nbformat_minor": 5
}
