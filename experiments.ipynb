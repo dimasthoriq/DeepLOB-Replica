{
 "cells": [
  {
   "metadata": {
    "ExecuteTime": {
     "end_time": "2024-11-09T07:00:23.115991Z",
     "start_time": "2024-11-09T07:00:23.113218Z"
    }
   },
   "cell_type": "code",
   "source": [
    "import torch\n",
    "import matplotlib.pyplot as plt\n",
    "\n",
    "from utils import Dataset, load_data, prepare_x, get_label, data_classification\n",
    "from trainer import batch_gd, evaluate\n",
    "from models import DeepLOB"
   ],
   "id": "1188ffcb21e4a797",
   "outputs": [],
   "execution_count": 7
  },
  {
   "metadata": {
    "ExecuteTime": {
     "end_time": "2024-11-09T06:56:30.515391Z",
     "start_time": "2024-11-09T06:56:30.510814Z"
    }
   },
   "cell_type": "code",
   "source": [
    "batch_size = 32\n",
    "k = 10\n",
    "num_classes = 3\n",
    "T = 100\n",
    "device = torch.device('cuda' if torch.cuda.is_available() else 'cpu')\n",
    "print(device)"
   ],
   "id": "4ad40faf9fc07287",
   "outputs": [
    {
     "name": "stdout",
     "output_type": "stream",
     "text": [
      "cuda\n"
     ]
    }
   ],
   "execution_count": 3
  },
  {
   "metadata": {
    "ExecuteTime": {
     "end_time": "2024-11-09T06:56:57.007213Z",
     "start_time": "2024-11-09T06:56:33.733368Z"
    }
   },
   "cell_type": "code",
   "source": [
    "# Load the data\n",
    "data_path = './data/'\n",
    "train, val, test = load_data(data_path)\n",
    "\n",
    "dataset_train = Dataset(data=train, k=k, num_classes=num_classes, T=T)\n",
    "dataset_val = Dataset(data=val, k=k, num_classes=num_classes, T=T)\n",
    "dataset_test = Dataset(data=test, k=k, num_classes=num_classes, T=T)\n",
    "\n",
    "train_loader = torch.utils.data.DataLoader(dataset=dataset_train, batch_size=batch_size, shuffle=True)\n",
    "val_loader = torch.utils.data.DataLoader(dataset=dataset_val, batch_size=batch_size, shuffle=False)\n",
    "test_loader = torch.utils.data.DataLoader(dataset=dataset_test, batch_size=batch_size, shuffle=False)\n",
    "\n",
    "print(dataset_train.x.shape, dataset_train.y.shape)"
   ],
   "id": "2e91067647af017e",
   "outputs": [
    {
     "name": "stdout",
     "output_type": "stream",
     "text": [
      "(149, 203800) (149, 50950) (149, 139587)\n"
     ]
    },
    {
     "ename": "IndexError",
     "evalue": "index 10 is out of bounds for axis 1 with size 5",
     "output_type": "error",
     "traceback": [
      "\u001B[1;31m---------------------------------------------------------------------------\u001B[0m",
      "\u001B[1;31mIndexError\u001B[0m                                Traceback (most recent call last)",
      "Cell \u001B[1;32mIn[4], line 5\u001B[0m\n\u001B[0;32m      2\u001B[0m data_path \u001B[38;5;241m=\u001B[39m \u001B[38;5;124m'\u001B[39m\u001B[38;5;124m./data/\u001B[39m\u001B[38;5;124m'\u001B[39m\n\u001B[0;32m      3\u001B[0m train, val, test \u001B[38;5;241m=\u001B[39m load_data(data_path)\n\u001B[1;32m----> 5\u001B[0m dataset_train \u001B[38;5;241m=\u001B[39m \u001B[43mDataset\u001B[49m\u001B[43m(\u001B[49m\u001B[43mdata\u001B[49m\u001B[38;5;241;43m=\u001B[39;49m\u001B[43mtrain\u001B[49m\u001B[43m,\u001B[49m\u001B[43m \u001B[49m\u001B[43mk\u001B[49m\u001B[38;5;241;43m=\u001B[39;49m\u001B[43mk\u001B[49m\u001B[43m,\u001B[49m\u001B[43m \u001B[49m\u001B[43mnum_classes\u001B[49m\u001B[38;5;241;43m=\u001B[39;49m\u001B[43mnum_classes\u001B[49m\u001B[43m,\u001B[49m\u001B[43m \u001B[49m\u001B[43mT\u001B[49m\u001B[38;5;241;43m=\u001B[39;49m\u001B[43mT\u001B[49m\u001B[43m)\u001B[49m\n\u001B[0;32m      6\u001B[0m dataset_val \u001B[38;5;241m=\u001B[39m Dataset(data\u001B[38;5;241m=\u001B[39mval, k\u001B[38;5;241m=\u001B[39mk, num_classes\u001B[38;5;241m=\u001B[39mnum_classes, T\u001B[38;5;241m=\u001B[39mT)\n\u001B[0;32m      7\u001B[0m dataset_test \u001B[38;5;241m=\u001B[39m Dataset(data\u001B[38;5;241m=\u001B[39mtest, k\u001B[38;5;241m=\u001B[39mk, num_classes\u001B[38;5;241m=\u001B[39mnum_classes, T\u001B[38;5;241m=\u001B[39mT)\n",
      "File \u001B[1;32mD:\\Users\\salab\\PycharmProjects\\DeepLOB-Replica\\utils.py:64\u001B[0m, in \u001B[0;36mDataset.__init__\u001B[1;34m(self, data, k, num_classes, T)\u001B[0m\n\u001B[0;32m     62\u001B[0m y \u001B[38;5;241m=\u001B[39m get_label(data)\n\u001B[0;32m     63\u001B[0m x, y \u001B[38;5;241m=\u001B[39m data_classification(x, y, \u001B[38;5;28mself\u001B[39m\u001B[38;5;241m.\u001B[39mT)\n\u001B[1;32m---> 64\u001B[0m y \u001B[38;5;241m=\u001B[39m \u001B[43my\u001B[49m\u001B[43m[\u001B[49m\u001B[43m:\u001B[49m\u001B[43m,\u001B[49m\u001B[43m \u001B[49m\u001B[38;5;28;43mself\u001B[39;49m\u001B[38;5;241;43m.\u001B[39;49m\u001B[43mk\u001B[49m\u001B[43m]\u001B[49m \u001B[38;5;241m-\u001B[39m \u001B[38;5;241m1\u001B[39m\n\u001B[0;32m     65\u001B[0m \u001B[38;5;28mself\u001B[39m\u001B[38;5;241m.\u001B[39mlength \u001B[38;5;241m=\u001B[39m \u001B[38;5;28mlen\u001B[39m(x)\n\u001B[0;32m     67\u001B[0m x \u001B[38;5;241m=\u001B[39m torch\u001B[38;5;241m.\u001B[39mfrom_numpy(x)\n",
      "\u001B[1;31mIndexError\u001B[0m: index 10 is out of bounds for axis 1 with size 5"
     ]
    }
   ],
   "execution_count": 4
  },
  {
   "metadata": {
    "ExecuteTime": {
     "end_time": "2024-11-09T07:00:33.417380Z",
     "start_time": "2024-11-09T07:00:24.599252Z"
    }
   },
   "cell_type": "code",
   "source": [
    "x = prepare_x(train)\n",
    "y = get_label(train)\n",
    "x, y = data_classification(x, y, T)"
   ],
   "id": "8a24b9b4b3ab31a",
   "outputs": [],
   "execution_count": 8
  },
  {
   "metadata": {
    "ExecuteTime": {
     "end_time": "2024-11-09T07:00:33.723879Z",
     "start_time": "2024-11-09T07:00:33.582763Z"
    }
   },
   "cell_type": "code",
   "source": "y",
   "id": "4c094a4ab43b85cd",
   "outputs": [
    {
     "data": {
      "text/plain": [
       "array([[1., 1., 1., 1., 1.],\n",
       "       [1., 1., 1., 3., 1.],\n",
       "       [2., 2., 1., 1., 1.],\n",
       "       ...,\n",
       "       [2., 2., 2., 2., 2.],\n",
       "       [2., 2., 2., 2., 2.],\n",
       "       [2., 2., 2., 2., 2.]])"
      ]
     },
     "execution_count": 9,
     "metadata": {},
     "output_type": "execute_result"
    }
   ],
   "execution_count": 9
  },
  {
   "metadata": {
    "ExecuteTime": {
     "end_time": "2024-11-09T06:56:57.008580Z",
     "start_time": "2024-11-09T06:56:57.008580Z"
    }
   },
   "cell_type": "code",
   "source": [
    "model = DeepLOB(y_len = dataset_train.num_classes)\n",
    "model.to(device)\n",
    "\n",
    "criterion = torch.nn.CrossEntropyLoss()\n",
    "optimizer = torch.optim.Adam(model.parameters(), lr=0.01, eps=1.0)      # set as in the paper or use lr=0.0001"
   ],
   "id": "9052727b27a5dd8b",
   "outputs": [],
   "execution_count": null
  },
  {
   "metadata": {},
   "cell_type": "code",
   "source": [
    "model, train_losses, val_losses = batch_gd(model, criterion, optimizer, train_loader, val_loader, k = k, epochs=150)\n",
    "\n",
    "plt.figure(figsize=(15,6))\n",
    "plt.plot(train_losses, label='train loss')\n",
    "plt.plot(val_losses, label='validation loss')\n",
    "plt.title('Losses')\n",
    "plt.xlabel('Epoch')\n",
    "plt.ylabel('Loss')\n",
    "plt.legend()\n",
    "plt.show()"
   ],
   "id": "1c49a235018b27e7",
   "outputs": [],
   "execution_count": null
  },
  {
   "metadata": {},
   "cell_type": "code",
   "source": "report_k10 = evaluate(model, test_loader)",
   "id": "31176cecf6ca905d",
   "outputs": [],
   "execution_count": null
  },
  {
   "metadata": {},
   "cell_type": "code",
   "outputs": [],
   "execution_count": null,
   "source": "",
   "id": "54ab96bb034a12c5"
  }
 ],
 "metadata": {
  "kernelspec": {
   "display_name": "Python 3",
   "language": "python",
   "name": "python3"
  },
  "language_info": {
   "codemirror_mode": {
    "name": "ipython",
    "version": 2
   },
   "file_extension": ".py",
   "mimetype": "text/x-python",
   "name": "python",
   "nbconvert_exporter": "python",
   "pygments_lexer": "ipython2",
   "version": "2.7.6"
  }
 },
 "nbformat": 4,
 "nbformat_minor": 5
}
